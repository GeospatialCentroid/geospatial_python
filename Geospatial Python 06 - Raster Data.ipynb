{
 "cells": [
  {
   "cell_type": "markdown",
   "id": "9e584c09-1bb8-4d1b-8b83-33b8cc06f2fa",
   "metadata": {},
   "source": [
    "# Geospatial Python\n",
    "## Read and visualize raster data\n",
    "Setup: https://carpentries-incubator.github.io/geospatial-python/index.html\n",
    "\n",
    "Instruction: https://carpentries-incubator.github.io/geospatial-python/06-raster-intro.html\n",
    "\n",
    "Objectives:\n",
    "* Explore raster attributes and metadata using Python.\n",
    "* Read rasters into Python using the rioxarray package.\n",
    "* Visualize single/multi-band raster data.\n",
    "\n",
    "* Before executing the code cells, be sure to replace the \"_____\" as appropriate"
   ]
  },
  {
   "cell_type": "code",
   "execution_count": null,
   "id": "b688235f-bdc5-4ec8-b476-09988b55fdeb",
   "metadata": {},
   "outputs": [],
   "source": [
    "# first import necessary libraries\n",
    "import pystac # to load rasters from the search result (previous class)\n",
    "import rioxarray # to open and download remote raster data"
   ]
  },
  {
   "cell_type": "code",
   "execution_count": null,
   "id": "71c585ee-0acf-47a5-af18-7395607a9929",
   "metadata": {},
   "outputs": [],
   "source": [
    "#load previously saved Sentinel-2 image metadata\n",
    "items = pystac.ItemCollection.from_file(\"search.json\")\n",
    "items"
   ]
  },
  {
   "cell_type": "code",
   "execution_count": null,
   "id": "050bde49-7bda-4eac-b9fb-6dfb45894773",
   "metadata": {},
   "outputs": [],
   "source": [
    "#open the first item (band 9 in Amsterdam) 'nir09' (central wavelength 945 nm)\n",
    "raster_ams_b9 = rioxarray.open_rasterio(items[0].assets[\"_____\"].href) \n",
    "# view the shape and attributes of the data\n",
    "print(raster_ams_b9)\n",
    "raster_ams_b9"
   ]
  },
  {
   "cell_type": "code",
   "execution_count": null,
   "id": "ae9279ee-5d63-4f6b-937f-c4ccf932a210",
   "metadata": {},
   "outputs": [],
   "source": [
    "# access band attributes using .rio accessor\n",
    "print(raster_ams_b9.rio.crs)\n",
    "print(raster_ams_b9.rio.nodata)\n",
    "print(raster_ams_b9.rio.bounds()) #method\n",
    "print(raster_ams_b9.rio.width)\n",
    "print(raster_ams_b9.rio.height)"
   ]
  },
  {
   "cell_type": "markdown",
   "id": "b0cbc8d4-773f-4518-bb72-42f78e76978d",
   "metadata": {},
   "source": [
    "## Visualize a Raster"
   ]
  },
  {
   "cell_type": "code",
   "execution_count": null,
   "id": "16e6406a-ed13-4cbd-afa3-58879e698d02",
   "metadata": {},
   "outputs": [],
   "source": [
    "# examine the array\n",
    "raster_ams_b9.values"
   ]
  },
  {
   "cell_type": "code",
   "execution_count": null,
   "id": "720d4a73-0168-4a54-b536-92a927327b1c",
   "metadata": {},
   "outputs": [],
   "source": [
    "# show a basic plot\n",
    "raster_ams_b9.plot()"
   ]
  },
  {
   "cell_type": "markdown",
   "id": "93c5dc45-4dd4-44ae-834b-e0f079558b2f",
   "metadata": {},
   "source": [
    "Note: The nir09 band with the central wavelength of 945nm is sensitive to water vapor\n",
    "https://sentinels.copernicus.eu/web/sentinel/technical-guides/sentinel-2-msi/msi-instrument"
   ]
  },
  {
   "cell_type": "code",
   "execution_count": null,
   "id": "213e47e2-0fb0-4444-a728-9d261a8db457",
   "metadata": {},
   "outputs": [],
   "source": [
    "# cloudy pixels at the top of the image have high reflectance values, while the contrast of everything else is quite low.\n",
    "# use robust=True, which displays values between the 2nd and 98th percentile\n",
    "raster_ams_b9.plot(robust=True)\n",
    "\n",
    "# or manually set range raster_ams_b9.plot(vmin=100, vmax=7000)"
   ]
  },
  {
   "cell_type": "code",
   "execution_count": null,
   "id": "ddb348b2-2e9a-4226-a6dc-9f9f72256569",
   "metadata": {},
   "outputs": [],
   "source": [
    "# View the Raster Coordinate Reference System\n",
    "print(raster_ams_b9.rio.crs)"
   ]
  },
  {
   "cell_type": "code",
   "execution_count": null,
   "id": "fe8da064-dd14-43f4-a026-042c99a29ed7",
   "metadata": {},
   "outputs": [],
   "source": [
    "# or the EPSG code number as an int\n",
    "raster_ams_b9.rio.crs.to_epsg()"
   ]
  },
  {
   "cell_type": "code",
   "execution_count": null,
   "id": "18cd2499-54af-4b3e-8fec-f2365d7ddc62",
   "metadata": {},
   "outputs": [],
   "source": [
    "# Use pyproj to see more metadata about the CRS\n",
    "from pyproj import CRS\n",
    "epsg = raster_ams_b9.rio.crs.to_epsg()\n",
    "crs = CRS(epsg)\n",
    "crs"
   ]
  },
  {
   "cell_type": "code",
   "execution_count": null,
   "id": "9a9e2b61-3dba-46fa-8bde-e47b2e201401",
   "metadata": {},
   "outputs": [],
   "source": [
    "#  show the geographic bounds that the CRS is intended to be used\n",
    "crs.area_of_use"
   ]
  },
  {
   "cell_type": "code",
   "execution_count": null,
   "id": "6fa8092c-6d21-4971-98b2-9ccfb132630e",
   "metadata": {},
   "outputs": [],
   "source": [
    "#help(crs)"
   ]
  },
  {
   "cell_type": "code",
   "execution_count": null,
   "id": "a966eaa7-7643-4331-a925-464e7e10bd64",
   "metadata": {},
   "outputs": [],
   "source": [
    "#dir(crs) # dir returns all properties and methods of the specified object"
   ]
  },
  {
   "cell_type": "code",
   "execution_count": null,
   "id": "c445ab13-ec1e-4082-80d4-7a86f5d3fcd8",
   "metadata": {},
   "outputs": [],
   "source": [
    "# to get the units of our data\n",
    "print(crs.axis_info)\n",
    "print(raster_ams_b9.rio.crs.linear_units)"
   ]
  },
  {
   "cell_type": "markdown",
   "id": "1c16b9d7-8a2b-4aa7-843e-4dd0502ca983",
   "metadata": {},
   "source": [
    "## Calculate Raster Statistics"
   ]
  },
  {
   "cell_type": "code",
   "execution_count": null,
   "id": "4f41c0cc-b244-47d8-a1f7-7e2fca1f6c5b",
   "metadata": {},
   "outputs": [],
   "source": [
    "\n",
    "raster_ams_b9.min().spatial_ref"
   ]
  },
  {
   "cell_type": "code",
   "execution_count": null,
   "id": "40ac7ed0-7be7-48aa-a325-46ff3592a6a1",
   "metadata": {},
   "outputs": [],
   "source": [
    "print(raster_ams_b9.min())\n",
    "print(raster_ams_b9.max())\n",
    "print(raster_ams_b9.mean())\n",
    "print(raster_ams_b9.std())"
   ]
  },
  {
   "cell_type": "code",
   "execution_count": null,
   "id": "9674c063-ba21-4453-ad3e-3a4dcb70fc54",
   "metadata": {},
   "outputs": [],
   "source": [
    "# to see specific quantiles 25% - 75%\n",
    "# hint: it needs decimals\n",
    "print(raster_ams_b9.quantile([\"_____\", \"_____\"]))"
   ]
  },
  {
   "cell_type": "code",
   "execution_count": null,
   "id": "1a836813-97e1-4044-8c94-fa1aa95bcfcc",
   "metadata": {},
   "outputs": [],
   "source": [
    "# do above with numpy\n",
    "# hint: no decimals\n",
    "import numpy\n",
    "print(numpy.percentile(raster_ams_b9, \"_____\"))\n",
    "print(numpy.percentile(raster_ams_b9, \"_____\"))"
   ]
  },
  {
   "cell_type": "code",
   "execution_count": null,
   "id": "a5733c04-ac08-47ea-9140-b28c07bbf4c6",
   "metadata": {},
   "outputs": [],
   "source": [
    "# specific help\n",
    "#help(raster_ams_b9.quantile)"
   ]
  },
  {
   "cell_type": "markdown",
   "id": "d6a54389-1922-44fd-bb97-904d77ed4b95",
   "metadata": {},
   "source": [
    "## Dealing with Missing Data"
   ]
  },
  {
   "cell_type": "code",
   "execution_count": null,
   "id": "27f54e7d-91fc-45c7-9a25-d014163bf745",
   "metadata": {},
   "outputs": [],
   "source": [
    "# masking missing data\n",
    "raster_ams_b9 = rioxarray.open_rasterio(items[0].assets[\"_____\"].href, masked=True)\n",
    "\n",
    "# or using where \n",
    "#raster_ams_b9.where(raster_ams_b9!=raster_ams_b9.rio.nodata)\n",
    "\n",
    "# note: this changes the data type of DataArray from integers to float"
   ]
  },
  {
   "cell_type": "code",
   "execution_count": null,
   "id": "ad5d452f-c069-4b84-9cad-9a6aea04d30a",
   "metadata": {},
   "outputs": [],
   "source": [
    "print(raster_ams_b9.min())\n",
    "print(raster_ams_b9.max())\n",
    "print(raster_ams_b9.mean())\n",
    "print(raster_ams_b9.std())"
   ]
  },
  {
   "cell_type": "code",
   "execution_count": null,
   "id": "66ce9b7e-384b-482c-b619-8161bd75e7ba",
   "metadata": {},
   "outputs": [],
   "source": [
    "# plot the data\n",
    "#Note: nodata pixels are not shown anymore\n",
    "raster_ams_b9.\"_____\"(robust=True)"
   ]
  },
  {
   "cell_type": "markdown",
   "id": "6b7b7b54-356f-4c35-835d-176699ca37b9",
   "metadata": {},
   "source": [
    "## Mulitband Raster"
   ]
  },
  {
   "cell_type": "code",
   "execution_count": null,
   "id": "64f998da-8a01-4f94-b050-07e0af0a7d99",
   "metadata": {},
   "outputs": [],
   "source": [
    "#load overview asset ('visual') for the Sentinel-2 scene\n",
    "raster_ams_overview = rioxarray.open_rasterio(items[0].assets[\"_____\"].href, overview_level=3)\n",
    "raster_ams_overview"
   ]
  },
  {
   "cell_type": "code",
   "execution_count": null,
   "id": "c5a12805-2a65-42c3-999f-b88892344c3f",
   "metadata": {},
   "outputs": [],
   "source": [
    "# check the shape\n",
    "raster_ams_overview.shape"
   ]
  },
  {
   "cell_type": "code",
   "execution_count": null,
   "id": "b755ed5b-6163-4b23-b2aa-520fa747cbe9",
   "metadata": {},
   "outputs": [],
   "source": [
    "# visualize the multi-band data\n",
    "raster_ams_overview.plot.imshow()"
   ]
  },
  {
   "cell_type": "code",
   "execution_count": null,
   "id": "248031f8-fb2a-43e9-aca4-7283314d8be2",
   "metadata": {
    "scrolled": true
   },
   "outputs": [],
   "source": [
    "# plot the image with fixed the aspect ratio\n",
    "raster_ams_overview.plot.\"_____\"(size=5, aspect=1)\n",
    "\n",
    "#note: height/width ratio is 1:1 (check the rio.height and rio.width) and size required with aspect property set to 1"
   ]
  }
 ],
 "metadata": {
  "kernelspec": {
   "display_name": "Python 3 (ipykernel)",
   "language": "python",
   "name": "python3"
  },
  "language_info": {
   "codemirror_mode": {
    "name": "ipython",
    "version": 3
   },
   "file_extension": ".py",
   "mimetype": "text/x-python",
   "name": "python",
   "nbconvert_exporter": "python",
   "pygments_lexer": "ipython3",
   "version": "3.10.13"
  }
 },
 "nbformat": 4,
 "nbformat_minor": 5
}
