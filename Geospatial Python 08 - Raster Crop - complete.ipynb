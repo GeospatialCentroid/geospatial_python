{
 "cells": [
  {
   "cell_type": "markdown",
   "id": "64666606-617a-4098-902f-1855e1a9bcd2",
   "metadata": {},
   "source": [
    "# Geospatial Python\n",
    "## Crop raster data with rioxarray and geopandas\n",
    "Setup: https://carpentries-incubator.github.io/geospatial-python/index.html\n",
    "\n",
    "Instruction: https://carpentries-incubator.github.io/geospatial-python/08-crop-raster-data.html\n",
    "\n",
    "Objectives:\n",
    "* Crop raster data with a bounding box.\n",
    "* Crop raster data with a polygon.\n",
    "* Match two raster datasets in different CRS.\n",
    "\n",
    "We will use the results of the satellite image search 'search.json', which was generated in 'Geospatial Python 05 - Intro.ipynb'.\n",
    "And the cropped fields polygons 'fields_cropped.shp', which was generated in 'Geospatial Python 07 - Vector Data - complete.ipynb'.\n",
    "\n",
    "Before executing the code cells, be sure to replace the \"_____\" as appropriate"
   ]
  },
  {
   "cell_type": "code",
   "execution_count": null,
   "id": "a159333b-0ea9-497f-ab72-41e2888a5991",
   "metadata": {},
   "outputs": [],
   "source": [
    "# first import necessary libraries\n",
    "import pystac\n",
    "import rioxarray\n",
    "\n",
    "# (lazy) Load 6th image from search result and inspect the shape\n",
    "items = pystac.ItemCollection.from_file(\"_____\")\n",
    "raster = rioxarray.open_rasterio(items[5].assets[\"_____\"].href) # Select a true color image \"visual\"\n",
    "print(raster.shape)"
   ]
  },
  {
   "cell_type": "code",
   "execution_count": null,
   "id": "2288e28a-ec84-4d63-8d92-c9ae5da90d59",
   "metadata": {},
   "outputs": [],
   "source": [
    "# Get the overview asset\n",
    "# Note: “Overviews” are precomputed lower resolution representations of a raster, part of COG standard\n",
    "raster_overview = rioxarray.open_rasterio(items[5].assets[\"_____\"].href, overview_level=3)\n",
    "print(raster_overview.shape)\n",
    "\n",
    "# Visualize it\n",
    "raster_overview.plot.imshow(figsize=(8,8))"
   ]
  },
  {
   "cell_type": "code",
   "execution_count": null,
   "id": "16657989-2438-4915-b58d-f097130ebe87",
   "metadata": {},
   "outputs": [],
   "source": [
    "# Check the coordinate system of the raster\n",
    "# this requires pyproj\n",
    "from pyproj import CRS\n",
    "\n",
    "CRS(raster.rio.crs)"
   ]
  },
  {
   "cell_type": "code",
   "execution_count": null,
   "id": "d8f5a74f-55b7-440b-ab53-c1fd8c570a5e",
   "metadata": {},
   "outputs": [],
   "source": [
    "# Load and check the coordinate system of the 'fields_cropped.shp' file\n",
    "import geopandas as gpd\n",
    "\n",
    "# Load the polygons of the crop fields\n",
    "fields = gpd.read_file(\"fields_cropped.shp\")\n",
    "\n",
    "# Check the coordinate reference system (crs)\n",
    "fields.\"_____\""
   ]
  },
  {
   "cell_type": "code",
   "execution_count": null,
   "id": "6e8dd1e8-3469-4c0f-b652-cb320c60fd62",
   "metadata": {},
   "outputs": [],
   "source": [
    "# Convert the 'fields' CRS to the CRS of 'raster'\n",
    "fields = fields.to_crs(raster.rio.\"_____\")"
   ]
  },
  {
   "cell_type": "markdown",
   "id": "dc141a09-a6c1-4543-8838-cf0ef414d57c",
   "metadata": {},
   "source": [
    "## Crop raster data with a bounding box"
   ]
  },
  {
   "cell_type": "code",
   "execution_count": null,
   "id": "1ff62553-4399-4131-a27e-aa331d184c60",
   "metadata": {},
   "outputs": [],
   "source": [
    "# Crop the raster with the bounding box (total_bounds property)\n",
    "raster_clip_box = raster.rio.clip_box(*fields.\"_____\")\n",
    "# note the * unpacks the array\n",
    "# inspect the shape\n",
    "print(raster_clip_box.shape)"
   ]
  },
  {
   "cell_type": "code",
   "execution_count": null,
   "id": "ea04b8d9-cc56-4fcf-9948-273365558faa",
   "metadata": {},
   "outputs": [],
   "source": [
    "# visualize the result\n",
    "raster_clip_box.plot.imshow(figsize=(8,8))"
   ]
  },
  {
   "cell_type": "code",
   "execution_count": null,
   "id": "a97854ce-77d0-4383-bf2f-ce65faf3c417",
   "metadata": {},
   "outputs": [],
   "source": [
    "# save the cropped tif (\"raster_clip.tif\")\n",
    "raster_clip_box.rio.to_raster(\"_____\")"
   ]
  },
  {
   "cell_type": "markdown",
   "id": "518ec523-f2dd-4643-8a62-b44a7a79f524",
   "metadata": {},
   "source": [
    "## Crop raster data with polygons"
   ]
  },
  {
   "cell_type": "code",
   "execution_count": null,
   "id": "7ff2d748-3a59-4ef0-896b-977249e5cc32",
   "metadata": {},
   "outputs": [],
   "source": [
    "# crop the image to the exact field boundaries\n",
    "raster_clip_fields = raster_clip_box.rio.clip(fields['geometry'])"
   ]
  },
  {
   "cell_type": "code",
   "execution_count": null,
   "id": "4d72625b-335f-471e-bc6e-11f50e90b33f",
   "metadata": {},
   "outputs": [],
   "source": [
    "# visualize the result\n",
    "raster_clip_fields.plot.imshow(figsize=(8,8))"
   ]
  },
  {
   "cell_type": "code",
   "execution_count": null,
   "id": "1f5c47f2-84e8-46f3-b526-026f2c76238a",
   "metadata": {},
   "outputs": [],
   "source": [
    "''' Exercise: Crop raster data with a specific \"crop code\"\n",
    "\n",
    "In the column “gewascode” (translated as “crop code”) of fields, you can find the code representing the types of plants grown in each field. \n",
    "Can you:\n",
    "\n",
    "- Select the fields with “gewascode” equal to 257;\n",
    "- Crop the raster raster_clip_box with the selected fields;\n",
    "* Visualize the cropped image.\n",
    "\n",
    "'''\n",
    "mask = fields['gewascode']==\"_____\"\n",
    "fields_gwascode = fields.where(mask)\n",
    "fields_gwascode = fields_gwascode.dropna()\n",
    "raster_clip_fields_gwascode = raster_clip_box.rio.clip(fields_gwascode['geometry'])\n",
    "raster_clip_fields_gwascode.plot.imshow(figsize=(8,8))"
   ]
  },
  {
   "cell_type": "markdown",
   "id": "7789c37e-ac61-443b-a094-0dab1fe87443",
   "metadata": {},
   "source": [
    "## Crop raster data using reproject_match() function"
   ]
  },
  {
   "cell_type": "code",
   "execution_count": null,
   "id": "4fe69f56-0102-4ac8-87aa-d85489620e75",
   "metadata": {},
   "outputs": [],
   "source": [
    "# Reproject 'raster_clip_fields_gwascode' to make the CRS different from the \"raster\"\n",
    "# Use EPSG:28992\n",
    "raster_clip_fields_gwascode = raster_clip_fields_gwascode.rio.reproject(\"_____\")\n",
    "CRS(raster_clip_fields_gwascode.rio.crs)"
   ]
  },
  {
   "cell_type": "code",
   "execution_count": null,
   "id": "ef0a5907-390d-4f81-a986-842ead136749",
   "metadata": {},
   "outputs": [],
   "source": [
    "# check the CRS of raster_clip_box\n",
    "CRS(raster_clip_box.rio.crs)"
   ]
  },
  {
   "cell_type": "code",
   "execution_count": null,
   "id": "de3e252d-50c0-44d7-af7e-e6c21ae30977",
   "metadata": {},
   "outputs": [],
   "source": [
    "# crop raster_clip_box image agaist raster_clip_fields_gwascode with different projection\n",
    "raster_reproject_match = raster_clip_box.rio.reproject_match(raster_clip_fields_gwascode)\n",
    "\n",
    "#visualize the result\n",
    "raster_reproject_match.plot.imshow(figsize=(8,8))"
   ]
  },
  {
   "cell_type": "code",
   "execution_count": null,
   "id": "3ed384f7-2edd-46f7-a286-f005be95b8dd",
   "metadata": {},
   "outputs": [],
   "source": [
    "# Try going the other way to expand the bounds\n",
    "raster_reproject_match = raster_clip_fields_gwascode.rio.reproject_match(raster_clip_box)\n",
    "raster_reproject_match.plot.imshow(figsize=(8,8))"
   ]
  }
 ],
 "metadata": {
  "kernelspec": {
   "display_name": "Python 3 (ipykernel)",
   "language": "python",
   "name": "python3"
  },
  "language_info": {
   "codemirror_mode": {
    "name": "ipython",
    "version": 3
   },
   "file_extension": ".py",
   "mimetype": "text/x-python",
   "name": "python",
   "nbconvert_exporter": "python",
   "pygments_lexer": "ipython3",
   "version": "3.10.13"
  }
 },
 "nbformat": 4,
 "nbformat_minor": 5
}
