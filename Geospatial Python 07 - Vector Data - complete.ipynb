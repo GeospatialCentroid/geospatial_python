{
 "cells": [
  {
   "cell_type": "markdown",
   "id": "ff7de2a1-132b-4207-82bf-7a95daea1ffe",
   "metadata": {},
   "source": [
    "## Vector data in Python\n",
    "\n",
    "Setup: https://carpentries-incubator.github.io/geospatial-python/index.html\n",
    "\n",
    "Instruction: https://carpentries-incubator.github.io/geospatial-python/07-vector-data-in-python.html\n",
    "\n",
    "Be sure to download the following in place into a 'data' folder\n",
    "* [brpgewaspercelen_definitief_2020_small.gpkg](https://figshare.com/ndownloader/files/37729413)\n",
    "* [brogmwvolledigeset.zip](https://figshare.com/ndownloader/files/37729416)\n",
    "* [status_vaarweg.zip](https://figshare.com/ndownloader/files/37729419)\n",
    "\n",
    "Objectives:\n",
    "* Load spatial objects.\n",
    "* Select the spatial objects within a bounding box.\n",
    "* Perform a CRS conversion of spatial objects.\n",
    "* Select features of spatial objects.\n",
    "* Match objects in two datasets based on their spatial relationships.\n",
    "\n",
    "* Before executing the code cells, be sure to replace the \"_____\" as appropriate"
   ]
  },
  {
   "cell_type": "code",
   "execution_count": null,
   "id": "83077caa-900a-41b2-9653-dd9cf3c21693",
   "metadata": {},
   "outputs": [],
   "source": [
    "# first import necessary libraries\n",
    "import geopandas as gpd"
   ]
  },
  {
   "cell_type": "code",
   "execution_count": null,
   "id": "7c86b2a6-709f-419b-8d3e-2e7e573cd3a1",
   "metadata": {
    "scrolled": true
   },
   "outputs": [],
   "source": [
    "#  use the geopandas package to load the crop field vector data we downloaded\n",
    "fields = gpd.read_file(\"data/brpgewaspercelen_definitief_2020_small.gpkg\")\n",
    "print(fields.crs)\n",
    "fields"
   ]
  },
  {
   "cell_type": "code",
   "execution_count": null,
   "id": "3077eb54-5a41-4c27-934b-4692d7f3c885",
   "metadata": {},
   "outputs": [],
   "source": [
    "# Define bounding box using data CRS\n",
    "# note the '_' in the numbers are solely for clarity.\n",
    "xmin, xmax = (110_000, 140_000)\n",
    "ymin, ymax = (470_000, 510_000)\n",
    "bbox = (xmin, ymin, xmax, ymax)\n",
    "print(bbox)\n",
    "# other options \n",
    "#Use the use the “Draw Rectangular Polygon” https://geojson.io/ but you'd need to reproj to EPSG:4326 (WGS 84)"
   ]
  },
  {
   "cell_type": "code",
   "execution_count": null,
   "id": "2d513dd6-a1df-4888-9758-e79f18095fa8",
   "metadata": {},
   "outputs": [],
   "source": [
    "# Partially load data within the bounding box\n",
    "fields = gpd.read_file(\"data/brpgewaspercelen_definitief_2020_small.gpkg\", bbox= \"_____\")"
   ]
  },
  {
   "cell_type": "code",
   "execution_count": null,
   "id": "3426b78c-5f6a-4198-a391-d0467e1e6fa4",
   "metadata": {},
   "outputs": [],
   "source": [
    "# Plot the overview\n",
    "fields.\"_____\"()"
   ]
  },
  {
   "cell_type": "code",
   "execution_count": null,
   "id": "182da919-7f40-4c45-85ce-e5e15edac319",
   "metadata": {},
   "outputs": [],
   "source": [
    "# show the geometry types\n",
    "fields.\"_____\""
   ]
  },
  {
   "cell_type": "code",
   "execution_count": null,
   "id": "baf65a6e-6d0c-4353-ae54-03d4008ba00f",
   "metadata": {},
   "outputs": [],
   "source": [
    "# show the coordinate reference system (crs)\n",
    "fields.\"_____\""
   ]
  },
  {
   "cell_type": "code",
   "execution_count": null,
   "id": "b9ece492-5074-4970-9599-abda067fc5e0",
   "metadata": {},
   "outputs": [],
   "source": [
    "# show the bounds (total_bounds)\n",
    "fields.\"_____\""
   ]
  },
  {
   "cell_type": "code",
   "execution_count": null,
   "id": "7b81d3b9-dc53-4ad3-8c48-7619071bd836",
   "metadata": {},
   "outputs": [],
   "source": [
    "# Use a smaller bounding box to crop the data without reloading it\n",
    "xmin, xmax = (120_000, 135_000)\n",
    "ymin, ymax = (485_000, 500_000)\n",
    "\n",
    "# coordinate indexer (cx) makes this possible docs https://geopandas.org/en/stable/docs/reference/api/geopandas.GeoDataFrame.cx.html\n",
    "fields_cx = fields.cx[\"_____\":\"_____\", \"_____\":\"_____\"]\n"
   ]
  },
  {
   "cell_type": "code",
   "execution_count": null,
   "id": "816a5225-46c3-4487-a555-d1d61590b1f4",
   "metadata": {},
   "outputs": [],
   "source": [
    "# Export data to file (extension .shp)\n",
    "fields_cx.to_file(\"_____\")"
   ]
  },
  {
   "cell_type": "markdown",
   "id": "894a2b8c-5b48-48f2-8597-52d947a59703",
   "metadata": {},
   "source": [
    "## Selecting spatial features"
   ]
  },
  {
   "cell_type": "code",
   "execution_count": null,
   "id": "f043ab07-34ec-462d-9f44-1b2c84c0921e",
   "metadata": {},
   "outputs": [],
   "source": [
    "#load our exported data\n",
    "fields = gpd.read_file(\"_____\")\n",
    "\n",
    "# load underground water monitoring wells.\n",
    "wells = gpd.read_file(\"data/brogmwvolledigeset.zip\")"
   ]
  },
  {
   "cell_type": "code",
   "execution_count": null,
   "id": "2fedd747-7486-4615-b86b-014e783fa1e3",
   "metadata": {},
   "outputs": [],
   "source": [
    "# plot the wells with marker size 0.1\n",
    "wells.plot(markersize=\"_____\")"
   ]
  },
  {
   "cell_type": "code",
   "execution_count": null,
   "id": "a9cf82f3-f540-4290-abf3-ea39bd132ac1",
   "metadata": {},
   "outputs": [],
   "source": [
    "# change projection to match fields\n",
    "wells = wells.to_crs(epsg=\"_____\")"
   ]
  },
  {
   "cell_type": "code",
   "execution_count": null,
   "id": "cf6c7380-af88-4b7d-a7c5-e04ab1e1dcf4",
   "metadata": {},
   "outputs": [],
   "source": [
    "# compare the wells with the cropped fields\n",
    "wells_clip = wells.clip(fields)\n",
    "wells_clip\n",
    "# note this will take some time"
   ]
  },
  {
   "cell_type": "code",
   "execution_count": null,
   "id": "96340fa7-1a7c-484f-a06c-f0497004fae6",
   "metadata": {},
   "outputs": [],
   "source": [
    "# use a 50 meter buffer to match the points in the neighborhood of the fields\n",
    "buffer = fields.buffer(\"_____\")\n",
    "\n",
    "# to keep the other columns, assign it to the GeoDataFrame as a geometry column\n",
    "fields_buffer = fields.copy()\n",
    "fields_buffer['geometry'] = buffer \n",
    "\n",
    "#plot the result\n",
    "fields_buffer.\"_____\"()"
   ]
  },
  {
   "cell_type": "code",
   "execution_count": null,
   "id": "55a4be0e-a109-4bd4-8489-f24e5009d966",
   "metadata": {},
   "outputs": [],
   "source": [
    "# use the dissolve function to dissolve the buffers into one shape\n",
    "fields_buffer_dissolve = fields_buffer.dissolve()\n",
    "fields_buffer_dissolve"
   ]
  },
  {
   "cell_type": "code",
   "execution_count": null,
   "id": "30050c5a-6af3-4881-98b1-2f4e2211710e",
   "metadata": {},
   "outputs": [],
   "source": [
    "# try the clip again, it'll be much faster\n",
    "wells_clip_buffer = wells.clip(fields_buffer_dissolve)\n",
    "#print(wells_clip_buffer)\n",
    "# plot the result\n",
    "wells_clip_buffer.\"_____\"()"
   ]
  },
  {
   "cell_type": "code",
   "execution_count": null,
   "id": "02caed32-fa9a-439c-870e-efb2cf79cd86",
   "metadata": {},
   "outputs": [],
   "source": [
    "# Exercise: Clip field wells within 500m from the wells\n",
    "# * visualize the results.\n",
    "fields =  gpd.read_file(\"fields_cropped.shp\")\n",
    "wells = gpd.read_file(\"data/brogmwvolledigeset.zip\")\n",
    "\n",
    "# Crop wells with bounding box of fields plus buffer\n",
    "# note: wells data might be too big to buffer, so best to crop it first \n",
    "xmin, ymin, xmax, ymax = fields.total_bounds\n",
    "wells = wells.to_crs(28992)\n",
    "wells_cx = wells.cx[xmin-500:xmax+500, ymin-500:ymax+500]\n",
    "\n",
    "# Create wells buffer\n",
    "wells_cx_500mbuffer = wells_cx.copy()\n",
    "wells_cx_500mbuffer['geometry'] = wells_cx.buffer(500)\n",
    "\n",
    "# Clip fields by the wells\n",
    "fields_clip_buffer = fields.clip(wells_cx_500mbuffer)\n",
    "\n",
    "#plot the result\n",
    "fields_clip_buffer.plot()"
   ]
  },
  {
   "cell_type": "markdown",
   "id": "24ca4cdd-47dd-4b36-a2cc-e25a1950ca00",
   "metadata": {},
   "source": [
    "## Spatially join the features"
   ]
  },
  {
   "cell_type": "code",
   "execution_count": null,
   "id": "23e1b777-b66b-4379-a293-478d25754a2e",
   "metadata": {},
   "outputs": [],
   "source": [
    "# Join fields and wells_cx_500mbuffer\n",
    "# and display the shape\n",
    "fields_wells_buffer = fields.sjoin(\"_____\")\n",
    "print(fields_wells_buffer.shape)"
   ]
  },
  {
   "cell_type": "code",
   "execution_count": null,
   "id": "5beb77e5-405a-4143-93d7-9dd847cbefec",
   "metadata": {},
   "outputs": [],
   "source": [
    "# get the unique indexes, and use the iloc indexer to select\n",
    "# Since a polygon can fall into multiple buffers creating duplicated field indexes in the results\n",
    "idx = fields_wells_buffer.index.unique()\n",
    "fields_in_buffer = fields.iloc[\"_____\"]\n",
    "\n",
    "#plot the result\n",
    "fields_in_buffer.\"_____\"()"
   ]
  },
  {
   "cell_type": "markdown",
   "id": "fea46d3f-b0d9-49c9-9899-9a36a79224a6",
   "metadata": {},
   "source": [
    "## Modify the geometry of a GeoDataFrame"
   ]
  },
  {
   "cell_type": "code",
   "execution_count": null,
   "id": "b0d2b87b-cbbe-4f8a-b58c-7851ad21036b",
   "metadata": {},
   "outputs": [],
   "source": [
    "# load and visualize the Dutch waterway lines file status_vaarweg.zip\n",
    "waterways_nl = gpd.read_file(\"_____\")\n",
    "waterways_nl.\"_____\"()"
   ]
  },
  {
   "cell_type": "code",
   "execution_count": null,
   "id": "7fabf7f8-202d-4e87-9c7e-80d60953cc83",
   "metadata": {},
   "outputs": [],
   "source": [
    "# Take a look on what makes up the geometry column of waterways_nl\n",
    "waterways_nl['geometry']"
   ]
  },
  {
   "cell_type": "code",
   "execution_count": null,
   "id": "72b06512-ff0d-4198-b12c-8740d7732a23",
   "metadata": {},
   "outputs": [],
   "source": [
    "# Print the 'geometry' and it's 'type' of the third row \n",
    "print(waterways_nl['geometry'][\"_____\"])\n",
    "print(type(waterways_nl['geometry'][\"_____\"]))"
   ]
  },
  {
   "cell_type": "code",
   "execution_count": null,
   "id": "5837d63f-df8d-4c35-a346-d0e88727fbcd",
   "metadata": {},
   "outputs": [],
   "source": [
    "#use shapely to flip the geometry\n",
    "import shapely\n",
    "\n",
    "# Define a function flipping the x and y coordinate values\n",
    "def flip(geometry):\n",
    "    return shapely.ops.transform(lambda x, y: (y, x), geometry)\n",
    "# shapely transform function docs https://shapely.readthedocs.io/en/stable/manual.html#shapely.ops.transform\n",
    "# more on lambda https://realpython.com/python-lambda/\n",
    "\n",
    "# Apply this function to all coordinates and lines\n",
    "geom_corrected = waterways_nl['geometry'].apply(flip)"
   ]
  },
  {
   "cell_type": "code",
   "execution_count": null,
   "id": "e68bc2ae-300a-45be-91bd-fc74f1dfa2a7",
   "metadata": {},
   "outputs": [],
   "source": [
    "# Update geometry\n",
    "waterways_nl['geometry'] = geom_corrected\n",
    "\n",
    "# Visualization\n",
    "waterways_nl.plot()"
   ]
  },
  {
   "cell_type": "code",
   "execution_count": null,
   "id": "2f16023d-4438-411e-977c-18c862cb804a",
   "metadata": {},
   "outputs": [],
   "source": [
    "# Export updated geometry\n",
    "waterways_nl.to_file('waterways_nl_corrected.shp')"
   ]
  }
 ],
 "metadata": {
  "kernelspec": {
   "display_name": "Python 3 (ipykernel)",
   "language": "python",
   "name": "python3"
  },
  "language_info": {
   "codemirror_mode": {
    "name": "ipython",
    "version": 3
   },
   "file_extension": ".py",
   "mimetype": "text/x-python",
   "name": "python",
   "nbconvert_exporter": "python",
   "pygments_lexer": "ipython3",
   "version": "3.10.13"
  }
 },
 "nbformat": 4,
 "nbformat_minor": 5
}
