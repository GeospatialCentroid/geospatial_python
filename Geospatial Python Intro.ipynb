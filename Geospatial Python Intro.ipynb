{
 "cells": [
  {
   "cell_type": "markdown",
   "id": "ac01cc2d-2dc6-48c8-a079-84f3c0224884",
   "metadata": {},
   "source": [
    "## Geospatial Python\n",
    "Setup: https://carpentries-incubator.github.io/geospatial-python/index.html\n",
    "\n",
    "Instruction: https://carpentries-incubator.github.io/geospatial-python/05-access-data.html\n",
    "\n",
    "SpatioTemporal Asset Catalog (STAC) Browser"
   ]
  },
  {
   "cell_type": "code",
   "execution_count": 5,
   "id": "2654e653",
   "metadata": {},
   "outputs": [],
   "source": [
    "import rioxarray\n",
    "from pystac_client import Client\n",
    "from shapely.geometry import Point"
   ]
  },
  {
   "cell_type": "code",
   "execution_count": 6,
   "id": "261621db-c10d-419c-8990-79a1d1e3296d",
   "metadata": {},
   "outputs": [],
   "source": [
    "api_url = \"https://earth-search.aws.element84.com/v1\"\n",
    "\n",
    "\n",
    "client = Client.open(api_url)\n",
    "collection = \"sentinel-2-l2a\"  # Sentinel-2, Level 2A, Cloud Optimized GeoTiffs (COGs)\n",
    "\n",
    "\n",
    "point = Point(4.89, 52.37)  # AMS coordinates"
   ]
  },
  {
   "cell_type": "code",
   "execution_count": 7,
   "id": "bf24afb7-2168-4e03-bc60-18d4e41e5ceb",
   "metadata": {},
   "outputs": [],
   "source": [
    "# perform metadata search limited to 10 results\n",
    "\n",
    "search = client.search(\n",
    "    collections=[collection],\n",
    "    intersects=point,\n",
    "    max_items=10,\n",
    ")"
   ]
  },
  {
   "cell_type": "code",
   "execution_count": 8,
   "id": "38175738-fb80-42e6-a568-619269cb4829",
   "metadata": {},
   "outputs": [
    {
     "name": "stdout",
     "output_type": "stream",
     "text": [
      "1135\n"
     ]
    }
   ],
   "source": [
    "# show the number of scenes\n",
    "print(search.matched())"
   ]
  },
  {
   "cell_type": "code",
   "execution_count": 9,
   "id": "eb43e6e9-10d4-405c-b9a4-943a8cd57977",
   "metadata": {},
   "outputs": [],
   "source": [
    "#store the metadata of the search results\n",
    "items = search.item_collection()"
   ]
  },
  {
   "cell_type": "code",
   "execution_count": 10,
   "id": "adbb704a-624a-4547-a44c-30214e52a425",
   "metadata": {},
   "outputs": [
    {
     "name": "stdout",
     "output_type": "stream",
     "text": [
      "10\n"
     ]
    }
   ],
   "source": [
    "# get the length of items\n",
    "print(len(items))"
   ]
  },
  {
   "cell_type": "code",
   "execution_count": 11,
   "id": "fc01379b-fd7b-44be-a4cb-4e4d7670a9e5",
   "metadata": {},
   "outputs": [
    {
     "name": "stdout",
     "output_type": "stream",
     "text": [
      "<Item id=S2A_31UFU_20240127_0_L2A>\n",
      "<Item id=S2B_31UFU_20240125_0_L2A>\n",
      "<Item id=S2B_31UFU_20240122_0_L2A>\n",
      "<Item id=S2A_31UFU_20240120_0_L2A>\n",
      "<Item id=S2A_31UFU_20240117_0_L2A>\n",
      "<Item id=S2B_31UFU_20240112_0_L2A>\n",
      "<Item id=S2A_31UFU_20240110_0_L2A>\n",
      "<Item id=S2A_31UFU_20240107_0_L2A>\n",
      "<Item id=S2B_31UFU_20240105_0_L2A>\n",
      "<Item id=S2B_31UFU_20240102_0_L2A>\n"
     ]
    }
   ],
   "source": [
    "# loop over the items\n",
    "for item in items:\n",
    "    print(item)"
   ]
  },
  {
   "cell_type": "code",
   "execution_count": 12,
   "id": "f2123f99-6de8-4ff6-817a-66fb6fc8798f",
   "metadata": {},
   "outputs": [
    {
     "name": "stdout",
     "output_type": "stream",
     "text": [
      "2024-01-27 10:46:20.273000+00:00\n",
      "{'type': 'Polygon', 'coordinates': [[[5.253802482193188, 53.228306912690954], [4.8284658835160466, 52.24839460577159], [6.071664488869862, 52.22257539160585], [6.141754296879459, 53.20819279121764], [5.253802482193188, 53.228306912690954]]]}\n",
      "{'created': '2024-01-27T16:36:06.073Z', 'platform': 'sentinel-2a', 'constellation': 'sentinel-2', 'instruments': ['msi'], 'eo:cloud_cover': 7.224917, 'proj:epsg': 32631, 'mgrs:utm_zone': 31, 'mgrs:latitude_band': 'U', 'mgrs:grid_square': 'FU', 'grid:code': 'MGRS-31UFU', 'view:sun_azimuth': 163.83828996157, 'view:sun_elevation': 17.352061312522494, 's2:degraded_msi_data_percentage': 0.0172, 's2:nodata_pixel_percentage': 34.201282, 's2:saturated_defective_pixel_percentage': 0, 's2:dark_features_percentage': 0.00836, 's2:cloud_shadow_percentage': 0.537798, 's2:vegetation_percentage': 34.312046, 's2:not_vegetated_percentage': 27.646589, 's2:water_percentage': 30.058819, 's2:unclassified_percentage': 0.208473, 's2:medium_proba_clouds_percentage': 0.138938, 's2:high_proba_clouds_percentage': 0.00835, 's2:thin_cirrus_percentage': 7.077628, 's2:snow_ice_percentage': 0.002995, 's2:product_type': 'S2MSI2A', 's2:processing_baseline': '05.10', 's2:product_uri': 'S2A_MSIL2A_20240127T104311_N0510_R008_T31UFU_20240127T145346.SAFE', 's2:generation_time': '2024-01-27T14:53:46.000000Z', 's2:datatake_id': 'GS2A_20240127T104311_044907_N05.10', 's2:datatake_type': 'INS-NOBS', 's2:datastrip_id': 'S2A_OPER_MSI_L2A_DS_2APS_20240127T145346_S20240127T104428_N05.10', 's2:granule_id': 'S2A_OPER_MSI_L2A_TL_2APS_20240127T145346_A044907_T31UFU_N05.10', 's2:reflectance_conversion_factor': 1.03233289600688, 'datetime': '2024-01-27T10:46:20.273000Z', 's2:sequence': '0', 'earthsearch:s3_path': 's3://sentinel-cogs/sentinel-s2-l2a-cogs/31/U/FU/2024/1/S2A_31UFU_20240127_0_L2A', 'earthsearch:payload_id': 'roda-sentinel2/workflow-sentinel2-to-stac/2259381f55522472ace13b46063f7f24', 'earthsearch:boa_offset_applied': True, 'processing:software': {'sentinel2-to-stac': '0.1.1'}, 'updated': '2024-01-27T16:36:06.073Z'}\n"
     ]
    }
   ],
   "source": [
    "#  inspect the metadata associated with the first item of the search result\n",
    "item = items[0]\n",
    "print(item.datetime)\n",
    "print(item.geometry)\n",
    "print(item.properties)"
   ]
  },
  {
   "cell_type": "code",
   "execution_count": 14,
   "id": "6c9024ae-6562-4126-b4b8-dfd6176d0f50",
   "metadata": {},
   "outputs": [
    {
     "name": "stdout",
     "output_type": "stream",
     "text": [
      "6\n"
     ]
    }
   ],
   "source": [
    "'''\n",
    "Search for all the available Sentinel-2 scenes in the sentinel-2-l2a collection that satisfy the following criteria: \n",
    "- intersect a provided bounding box (use ±0.01 deg in lat/lon from the previously defined point); \n",
    "- have been recorded between 20 March 2020 and 30 March 2020; \n",
    "- have a cloud coverage smaller than 10%.\n",
    "'''\n",
    "bbox = point.buffer(0.01).bounds\n",
    "\n",
    "search = client.search(\n",
    "    collections=[collection],\n",
    "    bbox=bbox,\n",
    "    datetime=\"2020-03-20/2020-03-30\",\n",
    "    query=[\"eo:cloud_cover<15\"]\n",
    ")\n",
    "print(search.matched())\n",
    "items = search.item_collection()\n",
    "items.save_object(\"search.json\") # json file saved alongside notebook"
   ]
  },
  {
   "cell_type": "markdown",
   "id": "68ec08bb-8799-4cf3-891c-ffeb661a1c4d",
   "metadata": {},
   "source": [
    "Access the assets"
   ]
  },
  {
   "cell_type": "code",
   "execution_count": 15,
   "id": "6e8b6d5e-de44-438e-a2c1-865c39ec9f9c",
   "metadata": {},
   "outputs": [
    {
     "name": "stdout",
     "output_type": "stream",
     "text": [
      "dict_keys(['aot', 'blue', 'coastal', 'granule_metadata', 'green', 'nir', 'nir08', 'nir09', 'red', 'rededge1', 'rededge2', 'rededge3', 'scl', 'swir16', 'swir22', 'thumbnail', 'tileinfo_metadata', 'visual', 'wvp', 'aot-jp2', 'blue-jp2', 'coastal-jp2', 'green-jp2', 'nir-jp2', 'nir08-jp2', 'nir09-jp2', 'red-jp2', 'rededge1-jp2', 'rededge2-jp2', 'rededge3-jp2', 'scl-jp2', 'swir16-jp2', 'swir22-jp2', 'visual-jp2', 'wvp-jp2'])\n"
     ]
    }
   ],
   "source": [
    "assets = items[0].assets  # first item's asset dictionary\n",
    "print(assets.keys())"
   ]
  },
  {
   "cell_type": "code",
   "execution_count": 16,
   "id": "8c9657a6-27ec-4978-8e77-b77f11479237",
   "metadata": {},
   "outputs": [
    {
     "name": "stdout",
     "output_type": "stream",
     "text": [
      "aot: Aerosol optical thickness (AOT)\n",
      "blue: Blue (band 2) - 10m\n",
      "coastal: Coastal aerosol (band 1) - 60m\n",
      "granule_metadata: None\n",
      "green: Green (band 3) - 10m\n",
      "nir: NIR 1 (band 8) - 10m\n",
      "nir08: NIR 2 (band 8A) - 20m\n",
      "nir09: NIR 3 (band 9) - 60m\n",
      "red: Red (band 4) - 10m\n",
      "rededge1: Red edge 1 (band 5) - 20m\n",
      "rededge2: Red edge 2 (band 6) - 20m\n",
      "rededge3: Red edge 3 (band 7) - 20m\n",
      "scl: Scene classification map (SCL)\n",
      "swir16: SWIR 1 (band 11) - 20m\n",
      "swir22: SWIR 2 (band 12) - 20m\n",
      "thumbnail: Thumbnail image\n",
      "tileinfo_metadata: None\n",
      "visual: True color image\n",
      "wvp: Water vapour (WVP)\n",
      "aot-jp2: Aerosol optical thickness (AOT)\n",
      "blue-jp2: Blue (band 2) - 10m\n",
      "coastal-jp2: Coastal aerosol (band 1) - 60m\n",
      "green-jp2: Green (band 3) - 10m\n",
      "nir-jp2: NIR 1 (band 8) - 10m\n",
      "nir08-jp2: NIR 2 (band 8A) - 20m\n",
      "nir09-jp2: NIR 3 (band 9) - 60m\n",
      "red-jp2: Red (band 4) - 10m\n",
      "rededge1-jp2: Red edge 1 (band 5) - 20m\n",
      "rededge2-jp2: Red edge 2 (band 6) - 20m\n",
      "rededge3-jp2: Red edge 3 (band 7) - 20m\n",
      "scl-jp2: Scene classification map (SCL)\n",
      "swir16-jp2: SWIR 1 (band 11) - 20m\n",
      "swir22-jp2: SWIR 2 (band 12) - 20m\n",
      "visual-jp2: True color image\n",
      "wvp-jp2: Water vapour (WVP)\n"
     ]
    }
   ],
   "source": [
    "# print a minimal description of the available assets:\n",
    "for key, asset in assets.items():\n",
    "    print(f\"{key}: {asset.title}\")"
   ]
  },
  {
   "cell_type": "code",
   "execution_count": 17,
   "id": "5ccb7bf8-ca82-4169-9d42-d881b50fc695",
   "metadata": {},
   "outputs": [
    {
     "name": "stdout",
     "output_type": "stream",
     "text": [
      "https://sentinel-cogs.s3.us-west-2.amazonaws.com/sentinel-s2-l2a-cogs/31/U/FU/2020/3/S2A_31UFU_20200328_1_L2A/thumbnail.jpg\n"
     ]
    }
   ],
   "source": [
    "# show one metadata value\n",
    "print(assets[\"thumbnail\"].href)"
   ]
  },
  {
   "cell_type": "code",
   "execution_count": 18,
   "id": "388da225-371b-45f3-b7fc-90fd16e06543",
   "metadata": {},
   "outputs": [
    {
     "name": "stdout",
     "output_type": "stream",
     "text": [
      "<xarray.DataArray (band: 1, y: 10980, x: 10980)>\n",
      "[120560400 values with dtype=uint16]\n",
      "Coordinates:\n",
      "  * band         (band) int64 1\n",
      "  * x            (x) float64 6e+05 6e+05 6e+05 ... 7.098e+05 7.098e+05 7.098e+05\n",
      "  * y            (y) float64 5.9e+06 5.9e+06 5.9e+06 ... 5.79e+06 5.79e+06\n",
      "    spatial_ref  int64 0\n",
      "Attributes:\n",
      "    AREA_OR_POINT:       Area\n",
      "    OVR_RESAMPLING_ALG:  AVERAGE\n",
      "    _FillValue:          0\n",
      "    scale_factor:        1.0\n",
      "    add_offset:          0.0\n"
     ]
    }
   ],
   "source": [
    "# open nir with the rioxarray library\n",
    "\n",
    "nir_href = assets[\"nir\"].href\n",
    "nir = rioxarray.open_rasterio(nir_href)\n",
    "print(nir)"
   ]
  },
  {
   "cell_type": "code",
   "execution_count": 19,
   "id": "8ef19744-b107-4f17-a36f-eefe07bec58c",
   "metadata": {},
   "outputs": [],
   "source": [
    "# save whole image to disk - this may take awhile\n",
    "nir.rio.to_raster(\"nir.tif\")"
   ]
  },
  {
   "cell_type": "code",
   "execution_count": 20,
   "id": "bc128f32-9fe4-4dab-9f5e-adc9c875c4b2",
   "metadata": {},
   "outputs": [],
   "source": [
    "# save portion of an image to disk\n",
    "nir[0,1500:2200,1500:2200].rio.to_raster(\"nir_subset.tif\")"
   ]
  },
  {
   "cell_type": "code",
   "execution_count": 21,
   "id": "4c3a96df-c801-462d-af12-0077207791fc",
   "metadata": {},
   "outputs": [
    {
     "name": "stdout",
     "output_type": "stream",
     "text": [
      "5\n"
     ]
    }
   ],
   "source": [
    "# from https://lpdaac.usgs.gov/products/hlsl30v002/ access connect to the STAC endpoint\n",
    "'''\n",
    "Using pystac_client, \n",
    "search for all assets of the Landsat 8 collection (HLSL30.v2.0) \n",
    "from February to March 2021, \n",
    "intersecting the point with longitude/latitute coordinates (-73.97, 40.78) deg.\n",
    "Visualize an item’s thumbnail (asset key browse).\n",
    "\n",
    "'''\n",
    "cmr_api_url = \"https://cmr.earthdata.nasa.gov/stac/LPCLOUD\"\n",
    "client = Client.open(cmr_api_url)\n",
    "\n",
    "# setup search\n",
    "search = client.search(\n",
    "    collections=[\"HLSL30.v2.0\"],\n",
    "    intersects=Point(-73.97, 40.78),\n",
    "    datetime=\"2021-02-01/2021-03-30\",\n",
    ") # nasa cmr cloud cover filtering is currently broken: https://github.com/nasa/cmr-stac/issues/239\n",
    "\n",
    "# retrieve search results\n",
    "items = search.item_collection()\n",
    "print(len(items))"
   ]
  },
  {
   "cell_type": "code",
   "execution_count": 22,
   "id": "8c78d39b-de70-4056-b7a2-569bbef92804",
   "metadata": {},
   "outputs": [
    {
     "name": "stdout",
     "output_type": "stream",
     "text": [
      "<Item id=HLS.L30.T18TWL.2021039T153324.v2.0>\n"
     ]
    }
   ],
   "source": [
    "items_sorted = sorted(items, key=lambda x: x.properties[\"eo:cloud_cover\"]) # sorting and then selecting by cloud cover\n",
    "item = items_sorted[0]\n",
    "print(item)"
   ]
  },
  {
   "cell_type": "code",
   "execution_count": 23,
   "id": "a2f312bc-47dc-430e-953f-7594eb0a74e0",
   "metadata": {},
   "outputs": [
    {
     "name": "stdout",
     "output_type": "stream",
     "text": [
      "https://data.lpdaac.earthdatacloud.nasa.gov/lp-prod-public/HLSL30.020/HLS.L30.T18TWL.2021039T153324.v2.0/HLS.L30.T18TWL.2021039T153324.v2.0.jpg\n"
     ]
    }
   ],
   "source": [
    "print(item.assets[\"browse\"].href)"
   ]
  },
  {
   "cell_type": "markdown",
   "id": "6c3b77b6-15d0-4c4d-b49f-83c487e76c4d",
   "metadata": {},
   "source": [
    "Public metadata does not mean public data.\n",
    "Consider getting a free NASA Earthdata account here https://urs.earthdata.nasa.gov/\n",
    "And creating a netrc file for access here https://git.earthdata.nasa.gov/projects/LPDUR/repos/daac_data_download_python/browse/EarthdataLoginSetup.py\n",
    "\n",
    "Then using \n",
    "*import os<br>\n",
    "os.environ[\"GDAL_HTTP_COOKIEFILE\"] = \"./cookies.txt\"<br>\n",
    "os.environ[\"GDAL_HTTP_COOKIEJAR\"] = \"./cookies.txt\"*\n"
   ]
  },
  {
   "cell_type": "code",
   "execution_count": null,
   "id": "094cf1c9-25e2-42fe-9645-65951c52b7ec",
   "metadata": {},
   "outputs": [],
   "source": []
  }
 ],
 "metadata": {
  "kernelspec": {
   "display_name": "Python 3 (ipykernel)",
   "language": "python",
   "name": "python3"
  },
  "language_info": {
   "codemirror_mode": {
    "name": "ipython",
    "version": 3
   },
   "file_extension": ".py",
   "mimetype": "text/x-python",
   "name": "python",
   "nbconvert_exporter": "python",
   "pygments_lexer": "ipython3",
   "version": "3.10.13"
  }
 },
 "nbformat": 4,
 "nbformat_minor": 5
}
