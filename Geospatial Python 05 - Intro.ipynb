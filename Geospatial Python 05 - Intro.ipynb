{
 "cells": [
  {
   "cell_type": "markdown",
   "id": "ac01cc2d-2dc6-48c8-a079-84f3c0224884",
   "metadata": {},
   "source": [
    "# Geospatial Python\n",
    "## Accessing satellite imagery using Python\n",
    "Setup: https://carpentries-incubator.github.io/geospatial-python/index.html\n",
    "\n",
    "Instruction: https://carpentries-incubator.github.io/geospatial-python/05-access-data.html\n",
    "\n",
    "Objectives:\n",
    "* Search public [SpatioTemporal Asset Catalog (STAC)](https://github.com/radiantearth/stac-api-spec/tree/release/v1.0.0) repositories of satellite imagery using Python.\n",
    "* Inspect search result’s metadata.\n",
    "* Download (a subset of) the assets available for a satellite scene.\n",
    "* Open satellite imagery as raster data and save it to disk.\n",
    "\n",
    "Before executing the code cells, be sure to replace the \"_____\" as appropriate"
   ]
  },
  {
   "cell_type": "code",
   "execution_count": null,
   "id": "2654e653",
   "metadata": {},
   "outputs": [],
   "source": [
    "# first import necessary libraries\n",
    "import rioxarray # to open and download remote raster data\n",
    "from pystac_client import Client # to query STAC API endpoint\n",
    "from shapely.geometry import Point # to create a point "
   ]
  },
  {
   "cell_type": "code",
   "execution_count": null,
   "id": "261621db-c10d-419c-8990-79a1d1e3296d",
   "metadata": {},
   "outputs": [],
   "source": [
    "# get the source url (top right button) from https://radiantearth.github.io/stac-browser/#/external/earth-search.aws.element84.com/v1\n",
    "# to access the STAC catalog items\n",
    "api_url = \"_____\"\n",
    "\n",
    "# open the api\n",
    "client = Client.open(api_url)\n",
    "# see documentation https://pystac-client.readthedocs.io/en/stable/\n"
   ]
  },
  {
   "cell_type": "code",
   "execution_count": null,
   "id": "bf24afb7-2168-4e03-bc60-18d4e41e5ceb",
   "metadata": {},
   "outputs": [],
   "source": [
    "# perform metadata search limited to 10 results from Sentinel-2, Level 2A, to retrieve Cloud Optimized GeoTiffs (COGs)\n",
    "\n",
    "# store a variable pointing to the collection of interest\n",
    "# Note: collection ID is taken from Sentinel-2 Level 2A - https://radiantearth.github.io/stac-browser/#/external/earth-search.aws.element84.com/v1/collections/sentinel-2-c1-l2a\n",
    "collection = \"_____\" \n",
    "'''\n",
    "includes Sentinel-2 data products \n",
    "pre-processed at level 2A (bottom-of-atmosphere reflectance) \n",
    "and saved in Cloud Optimized GeoTIFF (COG) format:\n",
    "'''\n",
    "\n",
    "# create a point to intersect from, note values are in format x (long), y (lat) https://shapely.readthedocs.io/en/stable/reference/shapely.Point.html\n",
    "point = Point(\"_____\", \"_____\")  # AMS (Amsterdam Airport Schiphol) coordinates, use https://www.google.com/maps\n",
    "\n",
    "search = client.search(\n",
    "    #collections=[collection],\n",
    "    intersects=point,\n",
    "    max_items=10,\n",
    ")"
   ]
  },
  {
   "cell_type": "code",
   "execution_count": null,
   "id": "38175738-fb80-42e6-a568-619269cb4829",
   "metadata": {},
   "outputs": [],
   "source": [
    "# show the number of scenes (i.e. the portion of the footage recorded by the satellite)\n",
    "print(search.matched())"
   ]
  },
  {
   "cell_type": "code",
   "execution_count": null,
   "id": "eb43e6e9-10d4-405c-b9a4-943a8cd57977",
   "metadata": {},
   "outputs": [],
   "source": [
    "# store the metadata of the search results\n",
    "items = search.item_collection()"
   ]
  },
  {
   "cell_type": "code",
   "execution_count": null,
   "id": "adbb704a-624a-4547-a44c-30214e52a425",
   "metadata": {},
   "outputs": [],
   "source": [
    "# get the length of items\n",
    "print(len(items))"
   ]
  },
  {
   "cell_type": "code",
   "execution_count": null,
   "id": "fc01379b-fd7b-44be-a4cb-4e4d7670a9e5",
   "metadata": {},
   "outputs": [],
   "source": [
    "# loop over the items to get there ids\n",
    "for item in items:\n",
    "    print(item)"
   ]
  },
  {
   "cell_type": "code",
   "execution_count": null,
   "id": "f2123f99-6de8-4ff6-817a-66fb6fc8798f",
   "metadata": {},
   "outputs": [],
   "source": [
    "#  inspect the metadata associated with the first item of the search result\n",
    "item = items[\"_____\"]\n",
    "print(item.datetime)\n",
    "print(item.geometry)\n",
    "print(item.properties)"
   ]
  },
  {
   "cell_type": "code",
   "execution_count": null,
   "id": "6c9024ae-6562-4126-b4b8-dfd6176d0f50",
   "metadata": {},
   "outputs": [],
   "source": [
    "'''\n",
    "EXERCISE: Search the sentinel-2-l2a collection for all the available scenes that satisfy the following criteria: \n",
    "- intersect a provided bounding box (use ±0.01 deg in lat/lon from the previously defined point); \n",
    "- have been recorded between 20 March 2020 and 30 March 2020; \n",
    "- have a cloud coverage less than 15. Note: the eo extension (https://github.com/stac-extensions/eo) is implemented in some collections allowing it to be queried against\n",
    "\n",
    "* get the count\n",
    "* save the results to json\n",
    "'''\n",
    "bbox = point.buffer(\"_____\").bounds\n",
    "\n",
    "search = client.search(\n",
    "    collections=[collection],\n",
    "    bbox=bbox,\n",
    "    datetime=\"2020-03-20/2020-03-30\",\n",
    "    query=[\"eo:cloud_cover<15\"]\n",
    ")\n",
    "print(search.matched())\n",
    "items = search.item_collection()\n",
    "items.save_object(\"search.json\") # json file saved alongside notebook"
   ]
  },
  {
   "cell_type": "markdown",
   "id": "68ec08bb-8799-4cf3-891c-ffeb661a1c4d",
   "metadata": {},
   "source": [
    "## Access the assets\n"
   ]
  },
  {
   "cell_type": "code",
   "execution_count": null,
   "id": "6e8b6d5e-de44-438e-a2c1-865c39ec9f9c",
   "metadata": {},
   "outputs": [],
   "source": [
    "# first item's assets\n",
    "assets = items[0].assets  \n",
    "\n",
    "print(assets.keys())"
   ]
  },
  {
   "cell_type": "code",
   "execution_count": null,
   "id": "8c9657a6-27ec-4978-8e77-b77f11479237",
   "metadata": {},
   "outputs": [],
   "source": [
    "# print a minimal description of the available assets\n",
    "for key, asset in assets.items():\n",
    "    print(f\"{key}: {asset.title}\")"
   ]
  },
  {
   "cell_type": "code",
   "execution_count": null,
   "id": "5ccb7bf8-ca82-4169-9d42-d881b50fc695",
   "metadata": {},
   "outputs": [],
   "source": [
    "# show one metadata value\n",
    "print(assets[\"thumbnail\"])\n",
    "print(assets[\"thumbnail\"].href)"
   ]
  },
  {
   "cell_type": "code",
   "execution_count": null,
   "id": "388da225-371b-45f3-b7fc-90fd16e06543",
   "metadata": {},
   "outputs": [],
   "source": [
    "# open nir with the rioxarray library\n",
    "nir_href = assets[\"nir\"].href\n",
    "nir = rioxarray.open_rasterio(nir_href)\n",
    "print(nir)"
   ]
  },
  {
   "cell_type": "code",
   "execution_count": null,
   "id": "8ef19744-b107-4f17-a36f-eefe07bec58c",
   "metadata": {},
   "outputs": [],
   "source": [
    "# save whole tif image to disk - this may take awhile\n",
    "nir.rio.to_raster(\"_____\")"
   ]
  },
  {
   "cell_type": "code",
   "execution_count": null,
   "id": "bc128f32-9fe4-4dab-9f5e-adc9c875c4b2",
   "metadata": {},
   "outputs": [],
   "source": [
    "# save portion of an image to disk\n",
    "nir[0,1500:2200,1500:2200].rio.to_raster(\"nir_subset.tif\")"
   ]
  },
  {
   "cell_type": "code",
   "execution_count": null,
   "id": "4c3a96df-c801-462d-af12-0077207791fc",
   "metadata": {},
   "outputs": [],
   "source": [
    "'''\n",
    "Exercise: \n",
    "Using pystac_client, connect to the STAC endpoint https://lpdaac.usgs.gov/products/hlsl30v002/ \n",
    "- search for all assets of the Landsat 8 collection (HLSL30.v2.0) \n",
    "- from February to March 2021, \n",
    "- intersecting the point with longitude/latitude coordinates (-73.97, 40.78) deg.\n",
    "* Visualize an item’s thumbnail (asset key browse).\n",
    "\n",
    "'''\n",
    "cmr_api_url = \"https://cmr.earthdata.nasa.gov/stac/LPCLOUD\"\n",
    "client = Client.open(cmr_api_url)\n",
    "\n",
    "# setup search\n",
    "search = client.search(\n",
    "    collections=[\"_____\"],\n",
    "    intersects=Point(\"_____\", \"_____\"),\n",
    "    datetime=\"2021-02-01/2021-03-30\",\n",
    ") # nasa cmr cloud cover filtering is currently broken: https://github.com/nasa/cmr-stac/issues/239\n",
    "\n",
    "# retrieve search results\n",
    "items = search.item_collection()\n",
    "print(len(items))"
   ]
  },
  {
   "cell_type": "code",
   "execution_count": null,
   "id": "8c78d39b-de70-4056-b7a2-569bbef92804",
   "metadata": {},
   "outputs": [],
   "source": [
    "# sort by cloud cover and show details for the least cloudy image\n",
    "items_sorted = sorted(items, key=lambda x: x.properties[\"eo:cloud_cover\"])\n",
    "item = items_sorted[0]\n",
    "print(item)"
   ]
  },
  {
   "cell_type": "code",
   "execution_count": null,
   "id": "a2f312bc-47dc-430e-953f-7594eb0a74e0",
   "metadata": {},
   "outputs": [],
   "source": [
    "# show the image url\n",
    "print(item.assets[\"browse\"].href)"
   ]
  },
  {
   "cell_type": "markdown",
   "id": "6c3b77b6-15d0-4c4d-b49f-83c487e76c4d",
   "metadata": {},
   "source": [
    "### Final note: Public metadata does not mean public data.\n",
    "Consider getting a free NASA Earthdata account here https://urs.earthdata.nasa.gov/\n",
    "And creating a netrc file for access here https://git.earthdata.nasa.gov/projects/LPDUR/repos/daac_data_download_python/browse/EarthdataLoginSetup.py\n",
    "\n",
    "Then using \n",
    "*import os<br>\n",
    "os.environ[\"GDAL_HTTP_COOKIEFILE\"] = \"./cookies.txt\"<br>\n",
    "os.environ[\"GDAL_HTTP_COOKIEJAR\"] = \"./cookies.txt\"*\n"
   ]
  }
 ],
 "metadata": {
  "kernelspec": {
   "display_name": "Python 3 (ipykernel)",
   "language": "python",
   "name": "python3"
  },
  "language_info": {
   "codemirror_mode": {
    "name": "ipython",
    "version": 3
   },
   "file_extension": ".py",
   "mimetype": "text/x-python",
   "name": "python",
   "nbconvert_exporter": "python",
   "pygments_lexer": "ipython3",
   "version": "3.10.13"
  }
 },
 "nbformat": 4,
 "nbformat_minor": 5
}
